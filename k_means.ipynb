{
  "nbformat": 4,
  "nbformat_minor": 0,
  "metadata": {
    "colab": {
      "provenance": []
    },
    "kernelspec": {
      "name": "python3",
      "display_name": "Python 3"
    },
    "language_info": {
      "name": "python"
    }
  },
  "cells": [
    {
      "cell_type": "code",
      "execution_count": 1,
      "metadata": {
        "id": "vnfncHhXgYEL"
      },
      "outputs": [],
      "source": [
        "import numpy as np\n",
        "import pandas as pd\n",
        "import matplotlib.pyplot as plt\n"
      ]
    },
    {
      "cell_type": "code",
      "source": [
        "X = np.array([\n",
        "        [0.1,0.6],\n",
        "        [0.15,0.71],\n",
        "        [0.08,0.9],\n",
        "        [0.16, 0.85],\n",
        "        [0.2,0.3],\n",
        "        [0.25,0.5],\n",
        "        [0.24,0.1],\n",
        "        [0.3,0.2]\n",
        "    ])\n",
        "plt.scatter(X[:,0],X[:,1])\n",
        "plt.show()"
      ],
      "metadata": {
        "colab": {
          "base_uri": "https://localhost:8080/",
          "height": 265
        },
        "id": "RqdBBYw9gieO",
        "outputId": "39a1b896-1ce1-435d-d40b-83a13a5832ea"
      },
      "execution_count": 2,
      "outputs": [
        {
          "output_type": "display_data",
          "data": {
            "text/plain": [
              "<Figure size 432x288 with 1 Axes>"
            ],
            "image/png": "[encoded data removed]"
          },
          "metadata": {
            "needs_background": "light"
          }
        }
      ]
    },
    {
      "cell_type": "code",
      "source": [
        "class k_means:\n",
        "    def __init__(self,k = 2, tol = 0.001, max_iter=300):\n",
        "      self.k = k\n",
        "      self.tol = tol\n",
        "      self.max_iter = max_iter\n",
        "\n",
        "    def fit(self,data):\n",
        "      self.centroids = {}\n",
        "\n",
        "      for i in range(self.k):\n",
        "        self.centroids[i] = data[i]\n",
        "\n",
        "      for i in range(len(self.max_iter)):\n",
        "        self.classification = {}\n",
        "        for i in range(self.k):\n",
        "            self.classifications[i] = []\n",
        "\n",
        "            for featureset in data:\n",
        "                distances = [np.linalg.norm(featureset-self.centroids[centroid]) for centroid in self.centroids]\n",
        "                classification = distances.index(min(distances))\n",
        "                self.classifications[classification].append(featureset)\n",
        "\n",
        "            prev_centroids = dict(self.centroids)\n",
        "\n",
        "            for classification in self.classifications:\n",
        "                self.centroids[classification] = np.average(self.classifications[classification],axis=0)\n",
        "\n",
        "            optimized = True\n",
        "\n",
        "            for c in self.centroids:\n",
        "                original_centroid = prev_centroids[c]\n",
        "                current_centroid = self.centroids[c]\n",
        "                if np.sum((current_centroid-original_centroid)/original_centroid*100.0) > self.tol:\n",
        "                    print(np.sum((current_centroid-original_centroid)/original_centroid*100.0))\n",
        "                    optimized = False\n",
        "\n",
        "            if optimized:\n",
        "                break\n",
        "\n",
        "\n",
        "    def fit(self,data):\n",
        "      for centroid in self.centroids:\n",
        "        distances = np.linalg.norm(data - self.centroids[centroid])\n",
        "      classification = distances.index(min(distances))"
      ],
      "metadata": {
        "id": "oMV8cwrPg5kx"
      },
      "execution_count": null,
      "outputs": []
    }
  ]
}